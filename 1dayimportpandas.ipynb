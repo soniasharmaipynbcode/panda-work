{
 "cells": [
  {
   "cell_type": "markdown",
   "id": "23f099a8",
   "metadata": {},
   "source": [
    "*************************    IMPORT PANDAS  *****************************"
   ]
  },
  {
   "cell_type": "code",
   "execution_count": null,
   "id": "ce48a7f1",
   "metadata": {},
   "outputs": [
    {
     "name": "stdout",
     "output_type": "stream",
     "text": [
      "  clockname  price\n",
      "0   titanic    100\n",
      "1   zamando    200\n",
      "2    podara    150\n"
     ]
    }
   ],
   "source": [
    "print('program use only import pandas')\n",
    "import pandas\n",
    "mydataset={\n",
    "    \"clockname\": [\"titanic\",\"zamando\",\"podara\"],\n",
    "    \"price\" : [100,200,150]\n",
    "}\n",
    "df=pandas.DataFrame(mydataset)\n",
    "print(df)"
   ]
  },
  {
   "cell_type": "markdown",
   "id": "673bfd1a",
   "metadata": {},
   "source": [
    "************************** IMPORT PANDAS AS PD    **********************"
   ]
  },
  {
   "cell_type": "code",
   "execution_count": 3,
   "id": "ce5ad34f",
   "metadata": {},
   "outputs": [
    {
     "name": "stdout",
     "output_type": "stream",
     "text": [
      "import pandas as pd for name alias\n",
      "  stuname classname  rollno  marks\n",
      "0     Anu        a1     101    300\n",
      "1    Kanu        a2     102    200\n",
      "2   Radha        a3     103    354\n",
      "3     Ram        a4     401    433\n",
      "4    sham        a5     303    234\n",
      "5   jyoti        a6     202    455\n"
     ]
    }
   ],
   "source": [
    "print('import pandas as pd for name alias')\n",
    "import pandas as pd\n",
    "mydataset={\n",
    "    \"stuname\":[\"Anu\",\"Kanu\",\"Radha\",\"Ram\",\"sham\",\"jyoti\"],\n",
    "    \"classname\": [\"a1\",\"a2\",\"a3\",\"a4\",\"a5\",\"a6\"],\n",
    "    \"rollno\": [101,102,103,401,303,202],\n",
    "    \"marks\":[300,200,354,433,234,455]\n",
    "}\n",
    "df=pd.DataFrame(mydataset)\n",
    "print(df)"
   ]
  },
  {
   "cell_type": "markdown",
   "id": "94dab729",
   "metadata": {},
   "source": [
    "****************  CHECK PANDAS VERSION   *******************"
   ]
  },
  {
   "cell_type": "code",
   "execution_count": 4,
   "id": "09a8de07",
   "metadata": {},
   "outputs": [
    {
     "name": "stdout",
     "output_type": "stream",
     "text": [
      "check pandas version\n",
      "2.2.3\n"
     ]
    }
   ],
   "source": [
    "print('check pandas version')\n",
    "import pandas as pd\n",
    "print(pd.__version__)"
   ]
  },
  {
   "cell_type": "markdown",
   "id": "81f33318",
   "metadata": {},
   "source": [
    "REMEMBER\n",
    "Import the package, aka import pandas as pd\n",
    "\n",
    "A table of data is stored as a pandas DataFrame\n",
    "\n",
    "Each column in a DataFrame is a Series\n",
    "\n",
    "You can do things by applying a method to a DataFrame or Series"
   ]
  }
 ],
 "metadata": {
  "kernelspec": {
   "display_name": "Python 3",
   "language": "python",
   "name": "python3"
  },
  "language_info": {
   "codemirror_mode": {
    "name": "ipython",
    "version": 3
   },
   "file_extension": ".py",
   "mimetype": "text/x-python",
   "name": "python",
   "nbconvert_exporter": "python",
   "pygments_lexer": "ipython3",
   "version": "3.13.2"
  }
 },
 "nbformat": 4,
 "nbformat_minor": 5
}
