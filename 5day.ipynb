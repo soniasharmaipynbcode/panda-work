{
 "cells": [
  {
   "cell_type": "code",
   "execution_count": null,
   "id": "8a7d8afe",
   "metadata": {},
   "outputs": [],
   "source": [
    "import pandas as pd\n",
    "data= {\n",
    "    \"Stuname\":[\"Amit\",\"Sumit\",\"Radha\"],\n",
    "    \"stumarks\":[50,30,60],\n",
    "    \"rollno\":[100,99,200]\n",
    "}\n",
    "df=pd.DataFrame(data,index=[\"stu1\",\"stu2\",\"stu3\"])\n",
    "print(df)\n",
    "sort1=df.sort_values(by=[\"stumarks\",\"rollno\"])\n",
    "#sort1=df.sort_values(by=\"rollno\")\n",
    "sort1"
   ]
  }
 ],
 "metadata": {
  "language_info": {
   "name": "python"
  }
 },
 "nbformat": 4,
 "nbformat_minor": 5
}
