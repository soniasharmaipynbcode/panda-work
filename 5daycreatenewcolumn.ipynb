{
 "cells": [
  {
   "cell_type": "markdown",
   "id": "de3b145c",
   "metadata": {},
   "source": [
    "************************* How to create new columns derived from existing columns*************************"
   ]
  },
  {
   "cell_type": "code",
   "execution_count": 2,
   "id": "f99538fd",
   "metadata": {},
   "outputs": [
    {
     "name": "stdout",
     "output_type": "stream",
     "text": [
      "create a new column from the existing column fron the table\n"
     ]
    }
   ],
   "source": [
    "print('create a new column from the existing column fron the table')\n",
    "import pandas as pd\n"
   ]
  },
  {
   "cell_type": "code",
   "execution_count": 1,
   "id": "84c2eb6a",
   "metadata": {},
   "outputs": [
    {
     "name": "stdout",
     "output_type": "stream",
     "text": [
      "     Stuname  stumarks  rollno\n",
      "stu1    Amit        50     100\n",
      "stu2   Sumit        30      99\n",
      "stu3   Radha        60     200\n"
     ]
    },
    {
     "data": {
      "text/html": [
       "<div>\n",
       "<style scoped>\n",
       "    .dataframe tbody tr th:only-of-type {\n",
       "        vertical-align: middle;\n",
       "    }\n",
       "\n",
       "    .dataframe tbody tr th {\n",
       "        vertical-align: top;\n",
       "    }\n",
       "\n",
       "    .dataframe thead th {\n",
       "        text-align: right;\n",
       "    }\n",
       "</style>\n",
       "<table border=\"1\" class=\"dataframe\">\n",
       "  <thead>\n",
       "    <tr style=\"text-align: right;\">\n",
       "      <th></th>\n",
       "      <th>Stuname</th>\n",
       "      <th>stumarks</th>\n",
       "      <th>rollno</th>\n",
       "    </tr>\n",
       "  </thead>\n",
       "  <tbody>\n",
       "    <tr>\n",
       "      <th>stu2</th>\n",
       "      <td>Sumit</td>\n",
       "      <td>30</td>\n",
       "      <td>99</td>\n",
       "    </tr>\n",
       "    <tr>\n",
       "      <th>stu1</th>\n",
       "      <td>Amit</td>\n",
       "      <td>50</td>\n",
       "      <td>100</td>\n",
       "    </tr>\n",
       "    <tr>\n",
       "      <th>stu3</th>\n",
       "      <td>Radha</td>\n",
       "      <td>60</td>\n",
       "      <td>200</td>\n",
       "    </tr>\n",
       "  </tbody>\n",
       "</table>\n",
       "</div>"
      ],
      "text/plain": [
       "     Stuname  stumarks  rollno\n",
       "stu2   Sumit        30      99\n",
       "stu1    Amit        50     100\n",
       "stu3   Radha        60     200"
      ]
     },
     "execution_count": 1,
     "metadata": {},
     "output_type": "execute_result"
    }
   ],
   "source": [
    "import pandas as pd\n",
    "data= {\n",
    "    \"Stuname\":[\"Amit\",\"Sumit\",\"Radha\"],\n",
    "    \"stumarks\":[50,30,60],\n",
    "    \"rollno\":[100,99,200]\n",
    "}\n",
    "df=pd.DataFrame(data,index=[\"stu1\",\"stu2\",\"stu3\"])\n",
    "print(df)\n",
    "sort1=df.sort_values(by=[\"stumarks\",\"rollno\"])\n",
    "#sort1=df.sort_values(by=\"rollno\")\n",
    "sort1"
   ]
  }
 ],
 "metadata": {
  "kernelspec": {
   "display_name": "Python 3",
   "language": "python",
   "name": "python3"
  },
  "language_info": {
   "codemirror_mode": {
    "name": "ipython",
    "version": 3
   },
   "file_extension": ".py",
   "mimetype": "text/x-python",
   "name": "python",
   "nbconvert_exporter": "python",
   "pygments_lexer": "ipython3",
   "version": "3.13.2"
  }
 },
 "nbformat": 4,
 "nbformat_minor": 5
}
