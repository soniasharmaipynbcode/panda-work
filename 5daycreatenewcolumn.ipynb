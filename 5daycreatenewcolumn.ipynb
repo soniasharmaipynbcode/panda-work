{
 "cells": [
  {
   "cell_type": "markdown",
   "id": "de3b145c",
   "metadata": {},
   "source": [
    "************************* How to create new columns derived from existing columns*************************"
   ]
  },
  {
   "cell_type": "code",
   "execution_count": 2,
   "id": "f99538fd",
   "metadata": {},
   "outputs": [
    {
     "name": "stdout",
     "output_type": "stream",
     "text": [
      "create a new column to the existing dataframe \n",
      "create a dictionary\n",
      "convert dictionary into dataframe\n"
     ]
    },
    {
     "data": {
      "text/html": [
       "<div>\n",
       "<style scoped>\n",
       "    .dataframe tbody tr th:only-of-type {\n",
       "        vertical-align: middle;\n",
       "    }\n",
       "\n",
       "    .dataframe tbody tr th {\n",
       "        vertical-align: top;\n",
       "    }\n",
       "\n",
       "    .dataframe thead th {\n",
       "        text-align: right;\n",
       "    }\n",
       "</style>\n",
       "<table border=\"1\" class=\"dataframe\">\n",
       "  <thead>\n",
       "    <tr style=\"text-align: right;\">\n",
       "      <th></th>\n",
       "      <th>Name</th>\n",
       "      <th>Height</th>\n",
       "      <th>Qualification</th>\n",
       "    </tr>\n",
       "  </thead>\n",
       "  <tbody>\n",
       "    <tr>\n",
       "      <th>0</th>\n",
       "      <td>Pandas</td>\n",
       "      <td>22</td>\n",
       "      <td>Mba</td>\n",
       "    </tr>\n",
       "    <tr>\n",
       "      <th>1</th>\n",
       "      <td>Loc</td>\n",
       "      <td>12</td>\n",
       "      <td>Ca</td>\n",
       "    </tr>\n",
       "    <tr>\n",
       "      <th>2</th>\n",
       "      <td>Lio</td>\n",
       "      <td>23</td>\n",
       "      <td>data A</td>\n",
       "    </tr>\n",
       "    <tr>\n",
       "      <th>3</th>\n",
       "      <td>Geeks</td>\n",
       "      <td>11</td>\n",
       "      <td>Doc</td>\n",
       "    </tr>\n",
       "  </tbody>\n",
       "</table>\n",
       "</div>"
      ],
      "text/plain": [
       "     Name  Height Qualification\n",
       "0  Pandas      22           Mba\n",
       "1     Loc      12            Ca\n",
       "2     Lio      23        data A\n",
       "3   Geeks      11           Doc"
      ]
     },
     "execution_count": 2,
     "metadata": {},
     "output_type": "execute_result"
    }
   ],
   "source": [
    "print('create a new column to the existing dataframe ')\n",
    "print('create a dictionary')\n",
    "import pandas as pd\n",
    "data2={\n",
    "    'Name':['Pandas','Loc','Lio','Geeks'],\n",
    "    'Height':[22,12,23,11],\n",
    "    'Qualification':['Mba','Ca',\"data A\",'Doc']\n",
    "}\n",
    "print('convert dictionary into dataframe')\n",
    "df=pd.DataFrame(data2)\n",
    "df"
   ]
  },
  {
   "cell_type": "code",
   "execution_count": 5,
   "id": "5d6616d0",
   "metadata": {},
   "outputs": [
    {
     "name": "stdout",
     "output_type": "stream",
     "text": [
      "create a list and convert into column in existing dataframe\n",
      "use this column in existing dataframe\n",
      "use this column\n"
     ]
    },
    {
     "data": {
      "text/html": [
       "<div>\n",
       "<style scoped>\n",
       "    .dataframe tbody tr th:only-of-type {\n",
       "        vertical-align: middle;\n",
       "    }\n",
       "\n",
       "    .dataframe tbody tr th {\n",
       "        vertical-align: top;\n",
       "    }\n",
       "\n",
       "    .dataframe thead th {\n",
       "        text-align: right;\n",
       "    }\n",
       "</style>\n",
       "<table border=\"1\" class=\"dataframe\">\n",
       "  <thead>\n",
       "    <tr style=\"text-align: right;\">\n",
       "      <th></th>\n",
       "      <th>Name</th>\n",
       "      <th>Height</th>\n",
       "      <th>Qualification</th>\n",
       "      <th>address</th>\n",
       "    </tr>\n",
       "  </thead>\n",
       "  <tbody>\n",
       "    <tr>\n",
       "      <th>0</th>\n",
       "      <td>Pandas</td>\n",
       "      <td>22</td>\n",
       "      <td>Mba</td>\n",
       "      <td>new york</td>\n",
       "    </tr>\n",
       "    <tr>\n",
       "      <th>1</th>\n",
       "      <td>Loc</td>\n",
       "      <td>12</td>\n",
       "      <td>Ca</td>\n",
       "      <td>america</td>\n",
       "    </tr>\n",
       "    <tr>\n",
       "      <th>2</th>\n",
       "      <td>Lio</td>\n",
       "      <td>23</td>\n",
       "      <td>data A</td>\n",
       "      <td>india</td>\n",
       "    </tr>\n",
       "    <tr>\n",
       "      <th>3</th>\n",
       "      <td>Geeks</td>\n",
       "      <td>11</td>\n",
       "      <td>Doc</td>\n",
       "      <td>germany</td>\n",
       "    </tr>\n",
       "  </tbody>\n",
       "</table>\n",
       "</div>"
      ],
      "text/plain": [
       "     Name  Height Qualification   address\n",
       "0  Pandas      22           Mba  new york\n",
       "1     Loc      12            Ca   america\n",
       "2     Lio      23        data A     india\n",
       "3   Geeks      11           Doc   germany"
      ]
     },
     "metadata": {},
     "output_type": "display_data"
    }
   ],
   "source": [
    "print('create a list and convert into column in existing dataframe')\n",
    "address=['new york','america','india','germany']\n",
    "print('use this column in existing dataframe')\n",
    "print('use this column')\n",
    "df['address']=address\n",
    "display(df)"
   ]
  },
  {
   "cell_type": "code",
   "execution_count": null,
   "id": "84c2eb6a",
   "metadata": {},
   "outputs": [
    {
     "name": "stdout",
     "output_type": "stream",
     "text": [
      "     Stuname  stumarks  rollno\n",
      "stu1    Amit        50     100\n",
      "stu2   Sumit        30      99\n",
      "stu3   Radha        60     200\n"
     ]
    },
    {
     "data": {
      "text/html": [
       "<div>\n",
       "<style scoped>\n",
       "    .dataframe tbody tr th:only-of-type {\n",
       "        vertical-align: middle;\n",
       "    }\n",
       "\n",
       "    .dataframe tbody tr th {\n",
       "        vertical-align: top;\n",
       "    }\n",
       "\n",
       "    .dataframe thead th {\n",
       "        text-align: right;\n",
       "    }\n",
       "</style>\n",
       "<table border=\"1\" class=\"dataframe\">\n",
       "  <thead>\n",
       "    <tr style=\"text-align: right;\">\n",
       "      <th></th>\n",
       "      <th>Stuname</th>\n",
       "      <th>stumarks</th>\n",
       "      <th>rollno</th>\n",
       "    </tr>\n",
       "  </thead>\n",
       "  <tbody>\n",
       "    <tr>\n",
       "      <th>stu2</th>\n",
       "      <td>Sumit</td>\n",
       "      <td>30</td>\n",
       "      <td>99</td>\n",
       "    </tr>\n",
       "    <tr>\n",
       "      <th>stu1</th>\n",
       "      <td>Amit</td>\n",
       "      <td>50</td>\n",
       "      <td>100</td>\n",
       "    </tr>\n",
       "    <tr>\n",
       "      <th>stu3</th>\n",
       "      <td>Radha</td>\n",
       "      <td>60</td>\n",
       "      <td>200</td>\n",
       "    </tr>\n",
       "  </tbody>\n",
       "</table>\n",
       "</div>"
      ],
      "text/plain": [
       "     Stuname  stumarks  rollno\n",
       "stu2   Sumit        30      99\n",
       "stu1    Amit        50     100\n",
       "stu3   Radha        60     200"
      ]
     },
     "execution_count": 1,
     "metadata": {},
     "output_type": "execute_result"
    }
   ],
   "source": [
    "print('create dataframe and use indexing')\n",
    "import pandas as pd\n",
    "data= {\n",
    "    \"Stuname\":[\"Amit\",\"Sumit\",\"Radha\"],\n",
    "    \"stumarks\":[50,30,60],\n",
    "    \"rollno\":[100,99,200]\n",
    "}\n",
    "df=pd.DataFrame(data,index=[\"stu1\",\"stu2\",\"stu3\"])\n",
    "print(df)\n",
    "sort1=df.sort_values(by=[\"stumarks\",\"rollno\"])\n",
    "#sort1=df.sort_values(by=\"rollno\")\n",
    "sort1"
   ]
  },
  {
   "cell_type": "code",
   "execution_count": null,
   "id": "6c9a6bdf",
   "metadata": {},
   "outputs": [
    {
     "name": "stdout",
     "output_type": "stream",
     "text": [
      "create a new column to the existing dataframe \n",
      "create a dictionary\n",
      "convert dictionary into dataframe\n",
      "before adding new column\n"
     ]
    },
    {
     "data": {
      "text/html": [
       "<div>\n",
       "<style scoped>\n",
       "    .dataframe tbody tr th:only-of-type {\n",
       "        vertical-align: middle;\n",
       "    }\n",
       "\n",
       "    .dataframe tbody tr th {\n",
       "        vertical-align: top;\n",
       "    }\n",
       "\n",
       "    .dataframe thead th {\n",
       "        text-align: right;\n",
       "    }\n",
       "</style>\n",
       "<table border=\"1\" class=\"dataframe\">\n",
       "  <thead>\n",
       "    <tr style=\"text-align: right;\">\n",
       "      <th></th>\n",
       "      <th>Name</th>\n",
       "      <th>Height</th>\n",
       "      <th>Qualification</th>\n",
       "      <th>price</th>\n",
       "    </tr>\n",
       "  </thead>\n",
       "  <tbody>\n",
       "    <tr>\n",
       "      <th>0</th>\n",
       "      <td>Pandas</td>\n",
       "      <td>22</td>\n",
       "      <td>Mba</td>\n",
       "      <td>200</td>\n",
       "    </tr>\n",
       "    <tr>\n",
       "      <th>1</th>\n",
       "      <td>Loc</td>\n",
       "      <td>12</td>\n",
       "      <td>Ca</td>\n",
       "      <td>300</td>\n",
       "    </tr>\n",
       "    <tr>\n",
       "      <th>2</th>\n",
       "      <td>Lio</td>\n",
       "      <td>23</td>\n",
       "      <td>data A</td>\n",
       "      <td>400</td>\n",
       "    </tr>\n",
       "    <tr>\n",
       "      <th>3</th>\n",
       "      <td>Geeks</td>\n",
       "      <td>11</td>\n",
       "      <td>Doc</td>\n",
       "      <td>500</td>\n",
       "    </tr>\n",
       "  </tbody>\n",
       "</table>\n",
       "</div>"
      ],
      "text/plain": [
       "     Name  Height Qualification  price\n",
       "0  Pandas      22           Mba    200\n",
       "1     Loc      12            Ca    300\n",
       "2     Lio      23        data A    400\n",
       "3   Geeks      11           Doc    500"
      ]
     },
     "metadata": {},
     "output_type": "display_data"
    },
    {
     "name": "stdout",
     "output_type": "stream",
     "text": [
      "\n",
      "\n",
      "create a new column in existing dataframe\n"
     ]
    },
    {
     "data": {
      "text/html": [
       "<div>\n",
       "<style scoped>\n",
       "    .dataframe tbody tr th:only-of-type {\n",
       "        vertical-align: middle;\n",
       "    }\n",
       "\n",
       "    .dataframe tbody tr th {\n",
       "        vertical-align: top;\n",
       "    }\n",
       "\n",
       "    .dataframe thead th {\n",
       "        text-align: right;\n",
       "    }\n",
       "</style>\n",
       "<table border=\"1\" class=\"dataframe\">\n",
       "  <thead>\n",
       "    <tr style=\"text-align: right;\">\n",
       "      <th></th>\n",
       "      <th>Name</th>\n",
       "      <th>Height</th>\n",
       "      <th>Qualification</th>\n",
       "      <th>price</th>\n",
       "      <th>price change</th>\n",
       "    </tr>\n",
       "  </thead>\n",
       "  <tbody>\n",
       "    <tr>\n",
       "      <th>0</th>\n",
       "      <td>Pandas</td>\n",
       "      <td>22</td>\n",
       "      <td>Mba</td>\n",
       "      <td>200</td>\n",
       "      <td>8000</td>\n",
       "    </tr>\n",
       "    <tr>\n",
       "      <th>1</th>\n",
       "      <td>Loc</td>\n",
       "      <td>12</td>\n",
       "      <td>Ca</td>\n",
       "      <td>300</td>\n",
       "      <td>12000</td>\n",
       "    </tr>\n",
       "    <tr>\n",
       "      <th>2</th>\n",
       "      <td>Lio</td>\n",
       "      <td>23</td>\n",
       "      <td>data A</td>\n",
       "      <td>400</td>\n",
       "      <td>16000</td>\n",
       "    </tr>\n",
       "    <tr>\n",
       "      <th>3</th>\n",
       "      <td>Geeks</td>\n",
       "      <td>11</td>\n",
       "      <td>Doc</td>\n",
       "      <td>500</td>\n",
       "      <td>20000</td>\n",
       "    </tr>\n",
       "  </tbody>\n",
       "</table>\n",
       "</div>"
      ],
      "text/plain": [
       "     Name  Height Qualification  price  price change\n",
       "0  Pandas      22           Mba    200          8000\n",
       "1     Loc      12            Ca    300         12000\n",
       "2     Lio      23        data A    400         16000\n",
       "3   Geeks      11           Doc    500         20000"
      ]
     },
     "execution_count": 25,
     "metadata": {},
     "output_type": "execute_result"
    }
   ],
   "source": [
    "print('create a new column to the existing column in dataframe ')\n",
    "print('create a dictionary')\n",
    "import pandas as pd\n",
    "data3={\n",
    "    'Name':['Pandas','Loc','Lio','Geeks'],\n",
    "    'Height':[22,12,23,11],\n",
    "    'Qualification':['Mba','Ca',\"data A\",'Doc'],\n",
    "    'price':[200,300,400,500]\n",
    "}\n",
    "print('convert dictionary into dataframe')\n",
    "print('before adding new column')\n",
    "df=pd.DataFrame(data3)\n",
    "display(df)\n",
    "print('\\n')\n",
    "\n",
    "print('create a new column in existing dataframe')\n",
    "df['price change']=df['price']*40\n",
    "df"
   ]
  },
  {
   "cell_type": "markdown",
   "id": "055232ad",
   "metadata": {},
   "source": [
    "DataFrame.insert()\n",
    "There is a built-in method called insert() to add a new column. \n",
    "steps\n",
    "1. Create DataFrame using dictionary.\n",
    "2. Create a list containing new column data. Make sure that the length of the list matches the length of the data which is already present in the data frame.\n",
    "3. Insert the data into the DataFrame using DataFrame.insert(index, column_name, data) method.\n"
   ]
  },
  {
   "cell_type": "code",
   "execution_count": 28,
   "id": "a4ec66d8",
   "metadata": {},
   "outputs": [
    {
     "name": "stdout",
     "output_type": "stream",
     "text": [
      "*****************before add new column***************\n",
      "     Name  Age  Profession\n",
      "0  Hafeez   19   Pythoneer\n",
      "1   Aslan   18  Programmer\n",
      "2  Kareem   15     Student\n",
      "\n",
      "\n",
      "craete a new list\n",
      "********************************after add new column************\n",
      "     Name  Age person address  Profession\n",
      "0  Hafeez   19      jalandhar   Pythoneer\n",
      "1   Aslan   18       amritsar  Programmer\n",
      "2  Kareem   15           pune     Student\n"
     ]
    }
   ],
   "source": [
    "#import pandas\n",
    "import pandas as pd\n",
    "# craete dataframe\n",
    "data4={\n",
    "    'Name': ['Hafeez', 'Aslan', 'Kareem'],\n",
    "   'Age': [19, 18, 15],\n",
    "   'Profession': ['Pythoneer', 'Programmer', 'Student']    \n",
    "}\n",
    "\n",
    "dataframe=pd.DataFrame(data4)\n",
    "print('*****************before add new column***************')\n",
    "print(dataframe)\n",
    "print('\\n')\n",
    "print('craete a new list')\n",
    "address=['jalandhar','amritsar','pune']\n",
    "# now use address column in existing dataframe gives the index number where we want to insert\n",
    "dataframe.insert(2,'person address',address)\n",
    "print('********************************after add new column************')\n",
    "print(dataframe)\n"
   ]
  },
  {
   "cell_type": "markdown",
   "id": "020f838f",
   "metadata": {},
   "source": [
    "DataFrame.assign()\n",
    "This method takes one argument i.e., a list of data and adds it to the data frame as a column at the end.\n",
    "\n",
    "steps\n",
    "1. Create DataFrame using a dictionary.\n",
    "2. Create a list containing new column data. Make sure that the length of the list matches the length of the data which is already present in the data frame.\n",
    "3. Insert the data into the DataFrame using DataFrame.assign(column_name = data)\n",
    "method. It returns a new data frame. So, we have to store it.\n",
    "4. Print the new data frame."
   ]
  },
  {
   "cell_type": "code",
   "execution_count": null,
   "id": "c9bdf996",
   "metadata": {},
   "outputs": [
    {
     "name": "stdout",
     "output_type": "stream",
     "text": [
      "*****************before add new column***************\n",
      "     Name  Age  Profession\n",
      "0  Hafeez   19   Pythoneer\n",
      "1   Aslan   18  Programmer\n",
      "2  Kareem   15     Student\n",
      "3  sunita   32        wife\n",
      "\n",
      "\n",
      "craete a new list\n",
      "********************************after add new column************\n",
      "     Name  Age  Profession peopleAddress\n",
      "0  Hafeez   19   Pythoneer     jalandhar\n",
      "1   Aslan   18  Programmer      amritsar\n",
      "2  Kareem   15     Student          pune\n",
      "3  sunita   32        wife          pape\n"
     ]
    }
   ],
   "source": [
    "#import pandas\n",
    "import pandas as pd\n",
    "# craete dataframe\n",
    "data4={\n",
    "    'Name': ['Hafeez', 'Aslan', 'Kareem','sunita'],\n",
    "   'Age': [19, 18, 15,32],\n",
    "   'Profession': ['Pythoneer', 'Programmer', 'Student','wife']    \n",
    "}\n",
    "\n",
    "dataframe=pd.DataFrame(data4)\n",
    "print('*****************before add new column***************')\n",
    "print(dataframe)\n",
    "print('\\n')\n",
    "print('craete a new list')\n",
    "address=['jalandhar','amritsar','pune','pape']\n",
    "# now use assigning address column in existing dataframe\n",
    "new_dataframe=dataframe.assign(PeopleAddress=address)\n",
    "print('********************************after add new column************')\n",
    "print(new_dataframe)"
   ]
  }
 ],
 "metadata": {
  "kernelspec": {
   "display_name": "Python 3",
   "language": "python",
   "name": "python3"
  },
  "language_info": {
   "codemirror_mode": {
    "name": "ipython",
    "version": 3
   },
   "file_extension": ".py",
   "mimetype": "text/x-python",
   "name": "python",
   "nbconvert_exporter": "python",
   "pygments_lexer": "ipython3",
   "version": "3.13.2"
  }
 },
 "nbformat": 4,
 "nbformat_minor": 5
}
