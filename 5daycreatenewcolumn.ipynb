{
 "cells": [
  {
   "cell_type": "markdown",
   "id": "de3b145c",
   "metadata": {},
   "source": [
    "************************* How to create new columns derived from existing columns*************************"
   ]
  },
  {
   "cell_type": "code",
   "execution_count": 2,
   "id": "f99538fd",
   "metadata": {},
   "outputs": [
    {
     "name": "stdout",
     "output_type": "stream",
     "text": [
      "create a new column to the existing dataframe \n",
      "create a dictionary\n",
      "convert dictionary into dataframe\n"
     ]
    },
    {
     "data": {
      "text/html": [
       "<div>\n",
       "<style scoped>\n",
       "    .dataframe tbody tr th:only-of-type {\n",
       "        vertical-align: middle;\n",
       "    }\n",
       "\n",
       "    .dataframe tbody tr th {\n",
       "        vertical-align: top;\n",
       "    }\n",
       "\n",
       "    .dataframe thead th {\n",
       "        text-align: right;\n",
       "    }\n",
       "</style>\n",
       "<table border=\"1\" class=\"dataframe\">\n",
       "  <thead>\n",
       "    <tr style=\"text-align: right;\">\n",
       "      <th></th>\n",
       "      <th>Name</th>\n",
       "      <th>Height</th>\n",
       "      <th>Qualification</th>\n",
       "    </tr>\n",
       "  </thead>\n",
       "  <tbody>\n",
       "    <tr>\n",
       "      <th>0</th>\n",
       "      <td>Pandas</td>\n",
       "      <td>22</td>\n",
       "      <td>Mba</td>\n",
       "    </tr>\n",
       "    <tr>\n",
       "      <th>1</th>\n",
       "      <td>Loc</td>\n",
       "      <td>12</td>\n",
       "      <td>Ca</td>\n",
       "    </tr>\n",
       "    <tr>\n",
       "      <th>2</th>\n",
       "      <td>Lio</td>\n",
       "      <td>23</td>\n",
       "      <td>data A</td>\n",
       "    </tr>\n",
       "    <tr>\n",
       "      <th>3</th>\n",
       "      <td>Geeks</td>\n",
       "      <td>11</td>\n",
       "      <td>Doc</td>\n",
       "    </tr>\n",
       "  </tbody>\n",
       "</table>\n",
       "</div>"
      ],
      "text/plain": [
       "     Name  Height Qualification\n",
       "0  Pandas      22           Mba\n",
       "1     Loc      12            Ca\n",
       "2     Lio      23        data A\n",
       "3   Geeks      11           Doc"
      ]
     },
     "execution_count": 2,
     "metadata": {},
     "output_type": "execute_result"
    }
   ],
   "source": [
    "print('create a new column to the existing dataframe ')\n",
    "print('create a dictionary')\n",
    "import pandas as pd\n",
    "data2={\n",
    "    'Name':['Pandas','Loc','Lio','Geeks'],\n",
    "    'Height':[22,12,23,11],\n",
    "    'Qualification':['Mba','Ca',\"data A\",'Doc']\n",
    "}\n",
    "print('convert dictionary into dataframe')\n",
    "df=pd.DataFrame(data2)\n",
    "df"
   ]
  },
  {
   "cell_type": "code",
   "execution_count": 5,
   "id": "5d6616d0",
   "metadata": {},
   "outputs": [
    {
     "name": "stdout",
     "output_type": "stream",
     "text": [
      "create a list and convert into column in existing dataframe\n",
      "use this column in existing dataframe\n",
      "use this column\n"
     ]
    },
    {
     "data": {
      "text/html": [
       "<div>\n",
       "<style scoped>\n",
       "    .dataframe tbody tr th:only-of-type {\n",
       "        vertical-align: middle;\n",
       "    }\n",
       "\n",
       "    .dataframe tbody tr th {\n",
       "        vertical-align: top;\n",
       "    }\n",
       "\n",
       "    .dataframe thead th {\n",
       "        text-align: right;\n",
       "    }\n",
       "</style>\n",
       "<table border=\"1\" class=\"dataframe\">\n",
       "  <thead>\n",
       "    <tr style=\"text-align: right;\">\n",
       "      <th></th>\n",
       "      <th>Name</th>\n",
       "      <th>Height</th>\n",
       "      <th>Qualification</th>\n",
       "      <th>address</th>\n",
       "    </tr>\n",
       "  </thead>\n",
       "  <tbody>\n",
       "    <tr>\n",
       "      <th>0</th>\n",
       "      <td>Pandas</td>\n",
       "      <td>22</td>\n",
       "      <td>Mba</td>\n",
       "      <td>new york</td>\n",
       "    </tr>\n",
       "    <tr>\n",
       "      <th>1</th>\n",
       "      <td>Loc</td>\n",
       "      <td>12</td>\n",
       "      <td>Ca</td>\n",
       "      <td>america</td>\n",
       "    </tr>\n",
       "    <tr>\n",
       "      <th>2</th>\n",
       "      <td>Lio</td>\n",
       "      <td>23</td>\n",
       "      <td>data A</td>\n",
       "      <td>india</td>\n",
       "    </tr>\n",
       "    <tr>\n",
       "      <th>3</th>\n",
       "      <td>Geeks</td>\n",
       "      <td>11</td>\n",
       "      <td>Doc</td>\n",
       "      <td>germany</td>\n",
       "    </tr>\n",
       "  </tbody>\n",
       "</table>\n",
       "</div>"
      ],
      "text/plain": [
       "     Name  Height Qualification   address\n",
       "0  Pandas      22           Mba  new york\n",
       "1     Loc      12            Ca   america\n",
       "2     Lio      23        data A     india\n",
       "3   Geeks      11           Doc   germany"
      ]
     },
     "metadata": {},
     "output_type": "display_data"
    }
   ],
   "source": [
    "print('create a list and convert into column in existing dataframe')\n",
    "address=['new york','america','india','germany']\n",
    "print('use this column in existing dataframe')\n",
    "print('use this column')\n",
    "df['address']=address\n",
    "display(df)"
   ]
  },
  {
   "cell_type": "code",
   "execution_count": null,
   "id": "84c2eb6a",
   "metadata": {},
   "outputs": [
    {
     "name": "stdout",
     "output_type": "stream",
     "text": [
      "     Stuname  stumarks  rollno\n",
      "stu1    Amit        50     100\n",
      "stu2   Sumit        30      99\n",
      "stu3   Radha        60     200\n"
     ]
    },
    {
     "data": {
      "text/html": [
       "<div>\n",
       "<style scoped>\n",
       "    .dataframe tbody tr th:only-of-type {\n",
       "        vertical-align: middle;\n",
       "    }\n",
       "\n",
       "    .dataframe tbody tr th {\n",
       "        vertical-align: top;\n",
       "    }\n",
       "\n",
       "    .dataframe thead th {\n",
       "        text-align: right;\n",
       "    }\n",
       "</style>\n",
       "<table border=\"1\" class=\"dataframe\">\n",
       "  <thead>\n",
       "    <tr style=\"text-align: right;\">\n",
       "      <th></th>\n",
       "      <th>Stuname</th>\n",
       "      <th>stumarks</th>\n",
       "      <th>rollno</th>\n",
       "    </tr>\n",
       "  </thead>\n",
       "  <tbody>\n",
       "    <tr>\n",
       "      <th>stu2</th>\n",
       "      <td>Sumit</td>\n",
       "      <td>30</td>\n",
       "      <td>99</td>\n",
       "    </tr>\n",
       "    <tr>\n",
       "      <th>stu1</th>\n",
       "      <td>Amit</td>\n",
       "      <td>50</td>\n",
       "      <td>100</td>\n",
       "    </tr>\n",
       "    <tr>\n",
       "      <th>stu3</th>\n",
       "      <td>Radha</td>\n",
       "      <td>60</td>\n",
       "      <td>200</td>\n",
       "    </tr>\n",
       "  </tbody>\n",
       "</table>\n",
       "</div>"
      ],
      "text/plain": [
       "     Stuname  stumarks  rollno\n",
       "stu2   Sumit        30      99\n",
       "stu1    Amit        50     100\n",
       "stu3   Radha        60     200"
      ]
     },
     "execution_count": 1,
     "metadata": {},
     "output_type": "execute_result"
    }
   ],
   "source": [
    "print('create dataframe and use indexing')\n",
    "import pandas as pd\n",
    "data= {\n",
    "    \"Stuname\":[\"Amit\",\"Sumit\",\"Radha\"],\n",
    "    \"stumarks\":[50,30,60],\n",
    "    \"rollno\":[100,99,200]\n",
    "}\n",
    "df=pd.DataFrame(data,index=[\"stu1\",\"stu2\",\"stu3\"])\n",
    "print(df)\n",
    "sort1=df.sort_values(by=[\"stumarks\",\"rollno\"])\n",
    "#sort1=df.sort_values(by=\"rollno\")\n",
    "sort1"
   ]
  },
  {
   "cell_type": "code",
   "execution_count": null,
   "id": "6c9a6bdf",
   "metadata": {},
   "outputs": [
    {
     "name": "stdout",
     "output_type": "stream",
     "text": [
      "create a new column to the existing dataframe \n",
      "create a dictionary\n",
      "convert dictionary into dataframe\n",
      "before adding new column\n"
     ]
    },
    {
     "data": {
      "text/html": [
       "<div>\n",
       "<style scoped>\n",
       "    .dataframe tbody tr th:only-of-type {\n",
       "        vertical-align: middle;\n",
       "    }\n",
       "\n",
       "    .dataframe tbody tr th {\n",
       "        vertical-align: top;\n",
       "    }\n",
       "\n",
       "    .dataframe thead th {\n",
       "        text-align: right;\n",
       "    }\n",
       "</style>\n",
       "<table border=\"1\" class=\"dataframe\">\n",
       "  <thead>\n",
       "    <tr style=\"text-align: right;\">\n",
       "      <th></th>\n",
       "      <th>Name</th>\n",
       "      <th>Height</th>\n",
       "      <th>Qualification</th>\n",
       "      <th>price</th>\n",
       "    </tr>\n",
       "  </thead>\n",
       "  <tbody>\n",
       "    <tr>\n",
       "      <th>0</th>\n",
       "      <td>Pandas</td>\n",
       "      <td>22</td>\n",
       "      <td>Mba</td>\n",
       "      <td>200</td>\n",
       "    </tr>\n",
       "    <tr>\n",
       "      <th>1</th>\n",
       "      <td>Loc</td>\n",
       "      <td>12</td>\n",
       "      <td>Ca</td>\n",
       "      <td>300</td>\n",
       "    </tr>\n",
       "    <tr>\n",
       "      <th>2</th>\n",
       "      <td>Lio</td>\n",
       "      <td>23</td>\n",
       "      <td>data A</td>\n",
       "      <td>400</td>\n",
       "    </tr>\n",
       "    <tr>\n",
       "      <th>3</th>\n",
       "      <td>Geeks</td>\n",
       "      <td>11</td>\n",
       "      <td>Doc</td>\n",
       "      <td>500</td>\n",
       "    </tr>\n",
       "  </tbody>\n",
       "</table>\n",
       "</div>"
      ],
      "text/plain": [
       "     Name  Height Qualification  price\n",
       "0  Pandas      22           Mba    200\n",
       "1     Loc      12            Ca    300\n",
       "2     Lio      23        data A    400\n",
       "3   Geeks      11           Doc    500"
      ]
     },
     "metadata": {},
     "output_type": "display_data"
    },
    {
     "name": "stdout",
     "output_type": "stream",
     "text": [
      "\n",
      "\n",
      "create a new column in existing dataframe\n"
     ]
    },
    {
     "data": {
      "text/html": [
       "<div>\n",
       "<style scoped>\n",
       "    .dataframe tbody tr th:only-of-type {\n",
       "        vertical-align: middle;\n",
       "    }\n",
       "\n",
       "    .dataframe tbody tr th {\n",
       "        vertical-align: top;\n",
       "    }\n",
       "\n",
       "    .dataframe thead th {\n",
       "        text-align: right;\n",
       "    }\n",
       "</style>\n",
       "<table border=\"1\" class=\"dataframe\">\n",
       "  <thead>\n",
       "    <tr style=\"text-align: right;\">\n",
       "      <th></th>\n",
       "      <th>Name</th>\n",
       "      <th>Height</th>\n",
       "      <th>Qualification</th>\n",
       "      <th>price</th>\n",
       "      <th>price change</th>\n",
       "    </tr>\n",
       "  </thead>\n",
       "  <tbody>\n",
       "    <tr>\n",
       "      <th>0</th>\n",
       "      <td>Pandas</td>\n",
       "      <td>22</td>\n",
       "      <td>Mba</td>\n",
       "      <td>200</td>\n",
       "      <td>8000</td>\n",
       "    </tr>\n",
       "    <tr>\n",
       "      <th>1</th>\n",
       "      <td>Loc</td>\n",
       "      <td>12</td>\n",
       "      <td>Ca</td>\n",
       "      <td>300</td>\n",
       "      <td>12000</td>\n",
       "    </tr>\n",
       "    <tr>\n",
       "      <th>2</th>\n",
       "      <td>Lio</td>\n",
       "      <td>23</td>\n",
       "      <td>data A</td>\n",
       "      <td>400</td>\n",
       "      <td>16000</td>\n",
       "    </tr>\n",
       "    <tr>\n",
       "      <th>3</th>\n",
       "      <td>Geeks</td>\n",
       "      <td>11</td>\n",
       "      <td>Doc</td>\n",
       "      <td>500</td>\n",
       "      <td>20000</td>\n",
       "    </tr>\n",
       "  </tbody>\n",
       "</table>\n",
       "</div>"
      ],
      "text/plain": [
       "     Name  Height Qualification  price  price change\n",
       "0  Pandas      22           Mba    200          8000\n",
       "1     Loc      12            Ca    300         12000\n",
       "2     Lio      23        data A    400         16000\n",
       "3   Geeks      11           Doc    500         20000"
      ]
     },
     "execution_count": 25,
     "metadata": {},
     "output_type": "execute_result"
    }
   ],
   "source": [
    "print('create a new column to the existing column in dataframe ')\n",
    "print('create a dictionary')\n",
    "import pandas as pd\n",
    "data3={\n",
    "    'Name':['Pandas','Loc','Lio','Geeks'],\n",
    "    'Height':[22,12,23,11],\n",
    "    'Qualification':['Mba','Ca',\"data A\",'Doc'],\n",
    "    'price':[200,300,400,500]\n",
    "}\n",
    "print('convert dictionary into dataframe')\n",
    "print('before adding new column')\n",
    "df=pd.DataFrame(data3)\n",
    "display(df)\n",
    "print('\\n')\n",
    "\n",
    "print('create a new column in existing dataframe')\n",
    "df['price change']=df['price']*40\n",
    "df"
   ]
  },
  {
   "cell_type": "markdown",
   "id": "055232ad",
   "metadata": {},
   "source": [
    "DataFrame.insert()\n",
    "There is a built-in method called insert() to add a new column. \n",
    "steps\n",
    "1. Create DataFrame using dictionary.\n",
    "2. Create a list containing new column data. Make sure that the length of the list matches the length of the data which is already present in the data frame.\n",
    "3. Insert the data into the DataFrame using DataFrame.insert(index, column_name, data) method.\n"
   ]
  },
  {
   "cell_type": "code",
   "execution_count": 28,
   "id": "a4ec66d8",
   "metadata": {},
   "outputs": [
    {
     "name": "stdout",
     "output_type": "stream",
     "text": [
      "*****************before add new column***************\n",
      "     Name  Age  Profession\n",
      "0  Hafeez   19   Pythoneer\n",
      "1   Aslan   18  Programmer\n",
      "2  Kareem   15     Student\n",
      "\n",
      "\n",
      "craete a new list\n",
      "********************************after add new column************\n",
      "     Name  Age person address  Profession\n",
      "0  Hafeez   19      jalandhar   Pythoneer\n",
      "1   Aslan   18       amritsar  Programmer\n",
      "2  Kareem   15           pune     Student\n"
     ]
    }
   ],
   "source": [
    "#import pandas\n",
    "import pandas as pd\n",
    "# craete dataframe\n",
    "data4={\n",
    "    'Name': ['Hafeez', 'Aslan', 'Kareem'],\n",
    "   'Age': [19, 18, 15],\n",
    "   'Profession': ['Pythoneer', 'Programmer', 'Student']    \n",
    "}\n",
    "\n",
    "dataframe=pd.DataFrame(data4)\n",
    "print('*****************before add new column***************')\n",
    "print(dataframe)\n",
    "print('\\n')\n",
    "print('craete a new list')\n",
    "address=['jalandhar','amritsar','pune']\n",
    "# now use address column in existing dataframe gives the index number where we want to insert\n",
    "dataframe.insert(2,'person address',address)\n",
    "print('********************************after add new column************')\n",
    "print(dataframe)\n"
   ]
  },
  {
   "cell_type": "markdown",
   "id": "020f838f",
   "metadata": {},
   "source": [
    "DataFrame.assign()\n",
    "This method takes one argument i.e., a list of data and adds it to the data frame as a column at the end.\n",
    "\n",
    "steps\n",
    "1. Create DataFrame using a dictionary.\n",
    "2. Create a list containing new column data. Make sure that the length of the list matches the length of the data which is already present in the data frame.\n",
    "3. Insert the data into the DataFrame using DataFrame.assign(column_name = data)\n",
    "method. It returns a new data frame. So, we have to store it.\n",
    "4. Print the new data frame."
   ]
  },
  {
   "cell_type": "code",
   "execution_count": null,
   "id": "c9bdf996",
   "metadata": {},
   "outputs": [
    {
     "name": "stdout",
     "output_type": "stream",
     "text": [
      "*****************before add new column***************\n",
      "     Name  Age  Profession\n",
      "0  Hafeez   19   Pythoneer\n",
      "1   Aslan   18  Programmer\n",
      "2  Kareem   15     Student\n",
      "3  sunita   32        wife\n",
      "\n",
      "\n",
      "craete a new list\n",
      "********************************after add new column************\n",
      "     Name  Age  Profession peopleAddress\n",
      "0  Hafeez   19   Pythoneer     jalandhar\n",
      "1   Aslan   18  Programmer      amritsar\n",
      "2  Kareem   15     Student          pune\n",
      "3  sunita   32        wife          pape\n"
     ]
    }
   ],
   "source": [
    "#import pandas\n",
    "import pandas as pd\n",
    "# craete dataframe\n",
    "data4={\n",
    "    'Name': ['Hafeez', 'Aslan', 'Kareem','sunita'],\n",
    "   'Age': [19, 18, 15,32],\n",
    "   'Profession': ['Pythoneer', 'Programmer', 'Student','wife']    \n",
    "}\n",
    "\n",
    "dataframe=pd.DataFrame(data4)\n",
    "print('*****************before add new column***************')\n",
    "print(dataframe)\n",
    "print('\\n')\n",
    "print('craete a new list')\n",
    "address=['jalandhar','amritsar','pune','pape']\n",
    "# now use assigning address column in existing dataframe\n",
    "new_dataframe=dataframe.assign(PeopleAddress=address)\n",
    "print('********************************after add new column************')\n",
    "print(new_dataframe)"
   ]
  },
  {
   "cell_type": "markdown",
   "id": "9f84ddaf",
   "metadata": {},
   "source": [
    "Add Multiple Columns in Dataframe at once (By using Dictionary Method)\n",
    "We can use a Python dictionary to add a new column in pandas DataFrame. This method is recommended when you want to add multiple columns at once or if you have columns in a dictionary format."
   ]
  },
  {
   "cell_type": "code",
   "execution_count": 2,
   "id": "1f2cadcc",
   "metadata": {},
   "outputs": [
    {
     "name": "stdout",
     "output_type": "stream",
     "text": [
      "     Name cals  rollno  Address\n",
      "0  Pandas  2nd     100  NewYork\n",
      "1   Geeks  3rd     200    Delhi\n",
      "2     For  4th     300  Denmark\n",
      "3   david  5th     202  Chicago\n"
     ]
    }
   ],
   "source": [
    "# import pandas\n",
    "import pandas as pd\n",
    "\n",
    "# Define dictionary defined as studen data\n",
    "student={\n",
    "    'Name':['Pandas', 'Geeks','For','david'],\n",
    "    'cals':['2nd','3rd','4th','5th'],\n",
    "    'rollno':[100,200,300,202]\n",
    "}\n",
    "\n",
    "# Convert the dictinory in the data frame\n",
    "df=pd.DataFrame(student)\n",
    "\n",
    "# now create a ned dictionary name as address with the key and address value\n",
    "address={\n",
    "    'Pandas':'NewYork','Geeks':'Delhi','For':'Denmark','david':'Chicago'\n",
    "}\n",
    "\n",
    "# Now add address column by mapping the 'Name' column\n",
    "# add address dictinot=ry in the existing dataframe\n",
    "df['Address']=df['Name'].map(address)\n",
    "print(df)"
   ]
  },
  {
   "cell_type": "markdown",
   "id": "6d9b6a4b",
   "metadata": {},
   "source": [
    "Add Multiple Columns in Dataframe at once (By using Dictionary Method)\n",
    "We can use a Python dictionary to add a new column in pandas DataFrame. This method is recommended when you want to add multiple columns at once or if you have columns in a dictionary format.\n"
   ]
  },
  {
   "cell_type": "code",
   "execution_count": 5,
   "id": "49d8beb9",
   "metadata": {},
   "outputs": [
    {
     "name": "stdout",
     "output_type": "stream",
     "text": [
      "     Name cals  rollno  Address  Age Qualification\n",
      "0  Pandas  2nd     100  NewYork   22           MBA\n",
      "1   Geeks  3rd     200    Delhi   33            CA\n",
      "2     For  4th     300  Denmark   23        Doctor\n",
      "3   david  5th     202  Chicago   44         Nurse\n"
     ]
    }
   ],
   "source": [
    "#add two new column in the existing dataframe\n",
    "new_column={\n",
    "    'Age':[22,33,23,44],\n",
    "    'Qualification':['MBA','CA','Doctor','Nurse']\n",
    "}\n",
    "\n",
    "# now unpack or add these two column in the existing dataframe\n",
    "df=df.assign(**new_column)\n",
    "print(df)"
   ]
  },
  {
   "cell_type": "markdown",
   "id": "e9916a8a",
   "metadata": {},
   "source": [
    "By using Dataframe.loc()\n",
    "Using .loc[], you can add a new column directly or modify values based on conditions, or when adding new columns based on specific row selections."
   ]
  },
  {
   "cell_type": "code",
   "execution_count": 7,
   "id": "73413ae9",
   "metadata": {},
   "outputs": [
    {
     "name": "stdout",
     "output_type": "stream",
     "text": [
      "-----------before apply condition data shows-------------\n",
      "    Name  no_of_employee  Average_salary\n",
      "0   arya              22            3000\n",
      "1  dario              22            2000\n",
      "2   cola              44            3200\n",
      "3  fanta             100            2000\n",
      "----------after column addition-----------\n",
      "    Name  no_of_employee  Average_salary      Category\n",
      "0   arya              22            3000          Good\n",
      "1  dario              22            2000  less average\n",
      "2   cola              44            3200          Good\n",
      "3  fanta             100            2000  less average\n"
     ]
    }
   ],
   "source": [
    "# import pandas\n",
    "import pandas as pd\n",
    "\n",
    "#create dictinory as company data\n",
    "company={\n",
    "    'Name':['arya','dario','cola','fanta'],\n",
    "    'no_of_employee':[22,22,44,100],\n",
    "    'Average_salary':[3000,2000,3200,2000]\n",
    "}\n",
    "\n",
    "# convert dictinory in data frame\n",
    "df=pd.DataFrame(company)\n",
    "print('-----------before apply condition data shows-------------')\n",
    "print(df)\n",
    "\n",
    "#using .loc() function add new column category \n",
    "df.loc()[df['Average_salary']>2500,'Category']='Good'\n",
    "df.loc()[df['Average_salary']<2500,'Category']='less average'\n",
    "print('----------after column addition-----------')\n",
    "print(df)"
   ]
  },
  {
   "cell_type": "markdown",
   "id": "524dbe83",
   "metadata": {},
   "source": [
    "Python Pandas Dataframe Renaming\n",
    "A Pandas Dataframe is a 2-dimensional data structure that displays data in tables with rows and columns.\n",
    "\n",
    "Pandas Dataframe by using:\n",
    "\n",
    "The rename() function.\n",
    "\n",
    "A List.\n",
    "\n",
    "The set_axis() function."
   ]
  },
  {
   "cell_type": "markdown",
   "id": "da6f8f4f",
   "metadata": {},
   "source": [
    "How to Rename a Column in Pandas Using the rename() Function\n",
    "Renaming a Pandas Dataframe using the rename() function.\n",
    "\n",
    "we created a Python dictionary which we used to store the firstname and lastname of students.\n",
    "We then converted the dictionary to a Dataframe by passing it as a parameter to the Pandas Dataframe object: pd.DataFrame(students).\n",
    "\n",
    "We can do that using the rename() function.\n",
    "Syntax\n",
    "df.rename(columns={\"OLD_COLUMN_VALUE\": \"NEW_COLUMN_VALUE\"})\n",
    "\n",
    "change the column names (firstname and lastname) in the table from lowercase to uppercase (FIRSTNAME and LASTNAME).\n",
    "\n",
    "we specified that the columns firstname and lastname should be renamed to FIRSTNAME and LASTNAME, respectively:\n",
    "df.rename(columns={\"firstname\": \"FIRSTNAME\", \"lastname\": \"LASTNAME\"}, inplace=True)\n",
    "\n",
    "we added the inplace=True parameter. This helps in persisting the new changes in the Dataframe. Inplace true means the changes permanently changes in the dataframe."
   ]
  },
  {
   "cell_type": "code",
   "execution_count": null,
   "id": "a1f8c081",
   "metadata": {},
   "outputs": [
    {
     "name": "stdout",
     "output_type": "stream",
     "text": [
      "before ramname data display\n",
      "  stu_first_name stu_last_name\n",
      "0          sonia        sharma\n",
      "1          anita          goel\n",
      "2          rahul         verma\n",
      "\n",
      "\n",
      "after use rename option\n",
      "  First_name Last_name\n",
      "0      sonia    sharma\n",
      "1      anita      goel\n",
      "2      rahul     verma\n",
      "Index(['First_name', 'Last_name'], dtype='object')\n"
     ]
    }
   ],
   "source": [
    "# import pandas\n",
    "import pandas as pd\n",
    "\n",
    "# create dictinory\n",
    "student1={\n",
    "    'stu_first_name':['sonia','anita','rahul'],\n",
    "    'stu_last_name':['sharma','goel','verma']\n",
    "    }\n",
    "\n",
    "# convert dictinory in dataframe\n",
    "df=pd.DataFrame(student1)\n",
    "\n",
    "#print dataframe\n",
    "print('before ramname data display')\n",
    "print(df)\n",
    "\n",
    "#print('rename column name in the dataframe in display')\n",
    "print('\\n')\n",
    "df.rename(columns={'stu_first_name':'First_name', 'stu_last_name':'Last_name'},inplace=True)\n",
    "print('after use rename option')\n",
    "print(df)\n"
   ]
  },
  {
   "cell_type": "markdown",
   "id": "63a9848f",
   "metadata": {},
   "source": [
    "Rename a Column in Pandas Using a List\n",
    "We can access the column names of a Dataframe using df.columns.\n",
    "We can print out the column names with the code\n",
    "print(df.columns)"
   ]
  },
  {
   "cell_type": "code",
   "execution_count": 18,
   "id": "f51b20f4",
   "metadata": {},
   "outputs": [
    {
     "name": "stdout",
     "output_type": "stream",
     "text": [
      "rename the columns with the df.column command for crete a list then rename the columns names\n",
      "display dataframe\n",
      "    Name class\n",
      "0   Amit   4th\n",
      "1  Sumit   5th\n",
      "2    Anu   2nd\n",
      "\n",
      "\n",
      "after rename the columns name\n",
      "  student_name student_class\n",
      "0         Amit           4th\n",
      "1        Sumit           5th\n",
      "2          Anu           2nd\n"
     ]
    }
   ],
   "source": [
    "print('rename the columns with the df.column command for crete a list then rename the columns names')\n",
    "\n",
    "# import pandas\n",
    "import pandas as pd\n",
    "\n",
    "# creete dictinory\n",
    "student2={\n",
    "    'Name':['Amit','Sumit','Anu'],\n",
    "    'class':['4th','5th','2nd']\n",
    "}\n",
    "\n",
    "# convert dictinory in data frame\n",
    "df=pd.DataFrame(student2)\n",
    "\n",
    "print('display dataframe')\n",
    "print(df)\n",
    "\n",
    "#create a list and then rename the existing columns in the dataframe\n",
    "\n",
    "print('\\n')\n",
    "print('after rename the columns name')\n",
    "df.columns=['student_name','student_class']\n",
    "print(df)"
   ]
  },
  {
   "cell_type": "markdown",
   "id": "dd6b51f2",
   "metadata": {},
   "source": [
    "Rename a Column in Pandas Using the set_axis() Function\n",
    "The syntax for renaming a column with the set_axis() function looks like this:\n",
    "\n",
    "df.set_axis([NEW_COLUMN_NAME,...], axis=\"columns\")\n",
    "\n",
    "the inplace=True parameter might raise a warning because it's deprecated for the set_axis() function and will be replaced in the future."
   ]
  },
  {
   "cell_type": "code",
   "execution_count": 23,
   "id": "db2b0256",
   "metadata": {},
   "outputs": [
    {
     "name": "stdout",
     "output_type": "stream",
     "text": [
      "rename the columns with use of set_axis() function\n",
      "display dataframe\n",
      "    Name class\n",
      "0   Amit   4th\n",
      "1  Sumit   5th\n",
      "2    Anu   2nd\n",
      "\n",
      "\n",
      "after rename the columns name\n",
      "    Name class\n",
      "0   Amit   4th\n",
      "1  Sumit   5th\n",
      "2    Anu   2nd\n"
     ]
    }
   ],
   "source": [
    "print('rename the columns with use of set_axis() function')\n",
    "# import pandas\n",
    "import pandas as pd\n",
    "\n",
    "# creete dictinory\n",
    "student3={\n",
    "    'Name':['Amit','Sumit','Anu'],\n",
    "    'class':['4th','5th','2nd']\n",
    "}\n",
    "\n",
    "# convert dictinory in data frame\n",
    "df=pd.DataFrame(student3)\n",
    "\n",
    "print('display dataframe')\n",
    "print(df)\n",
    "\n",
    "# rename the existing columns in the dataframe with use of set_axis() function\n",
    "\n",
    "print('\\n')\n",
    "print('after rename the columns name')\n",
    "df.set_axis(['student_name','student_class'], axis='columns')\n",
    "print(df)"
   ]
  },
  {
   "cell_type": "markdown",
   "id": "6a6f25e1",
   "metadata": {},
   "source": [
    "REMEMBER\n",
    "Create a new column by assigning the output to the DataFrame with a new column name in between the [].\n",
    "\n",
    "Operations are element-wise, no need to loop over rows.\n",
    "\n",
    "Use rename with a dictionary or function to rename row labels or column names.\n",
    "\n",
    "Rename could be done by list withuse of df.column() function\n",
    "\n",
    "Rename can be possible by set_axis() fumctions\n",
    "\n"
   ]
  }
 ],
 "metadata": {
  "kernelspec": {
   "display_name": "Python 3",
   "language": "python",
   "name": "python3"
  },
  "language_info": {
   "codemirror_mode": {
    "name": "ipython",
    "version": 3
   },
   "file_extension": ".py",
   "mimetype": "text/x-python",
   "name": "python",
   "nbconvert_exporter": "python",
   "pygments_lexer": "ipython3",
   "version": "3.13.2"
  }
 },
 "nbformat": 4,
 "nbformat_minor": 5
}
