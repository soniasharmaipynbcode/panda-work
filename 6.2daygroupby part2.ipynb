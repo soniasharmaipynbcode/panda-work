{
 "cells": [
  {
   "cell_type": "markdown",
   "id": "a982cf10",
   "metadata": {},
   "source": [
    "Groupby() Funcyion Part 2"
   ]
  }
 ],
 "metadata": {
  "language_info": {
   "name": "python"
  }
 },
 "nbformat": 4,
 "nbformat_minor": 5
}
