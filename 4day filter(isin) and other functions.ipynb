{
 "cells": [
  {
   "cell_type": "code",
   "execution_count": null,
   "id": "067d8f0c",
   "metadata": {},
   "outputs": [],
   "source": [
    "******** ISIN and Further more Function here explain **********************"
   ]
  },
  {
   "cell_type": "markdown",
   "id": "c449f1f5",
   "metadata": {},
   "source": [
    "print('use isin function')\n"
   ]
  },
  {
   "cell_type": "code",
   "execution_count": null,
   "id": "0cb70e60",
   "metadata": {},
   "outputs": [],
   "source": [
    "import pandas as pd\n",
    "data= {\n",
    "    \"Stuname\":[\"Amit\",\"Sumit\",\"Radha\"],\n",
    "    \"stumarks\":[50,30,60],\n",
    "    \"rollno\":[100,99,200]\n",
    "}\n",
    "df=pd.DataFrame(data,index=[\"stu1\",\"stu2\",\"stu3\"])\n",
    "print(df)\n",
    "sort1=df.sort_values(by=[\"stumarks\",\"rollno\"])\n",
    "#sort1=df.sort_values(by=\"rollno\")\n",
    "sort1"
   ]
  },
  {
   "cell_type": "code",
   "execution_count": null,
   "id": "046fa899",
   "metadata": {},
   "outputs": [],
   "source": []
  }
 ],
 "metadata": {
  "kernelspec": {
   "display_name": "Python 3",
   "language": "python",
   "name": "python3"
  },
  "language_info": {
   "codemirror_mode": {
    "name": "ipython",
    "version": 3
   },
   "file_extension": ".py",
   "mimetype": "text/x-python",
   "name": "python",
   "nbconvert_exporter": "python",
   "pygments_lexer": "ipython3",
   "version": "3.13.2"
  }
 },
 "nbformat": 4,
 "nbformat_minor": 5
}
