{
 "cells": [
  {
   "cell_type": "markdown",
   "id": "2cf732a0",
   "metadata": {},
   "source": [
    "**********************  PANDAS SERIES BY LIST   ***************"
   ]
  },
  {
   "cell_type": "code",
   "execution_count": 2,
   "id": "d4f6e412",
   "metadata": {},
   "outputs": [
    {
     "name": "stdout",
     "output_type": "stream",
     "text": [
      "create simple pandas series from the list\n",
      "0    100\n",
      "1    200\n",
      "2    300\n",
      "3    400\n",
      "4    500\n",
      "5    550\n",
      "6    444\n",
      "7    600\n",
      "dtype: int64\n"
     ]
    }
   ],
   "source": [
    "print('create simple pandas series from the list')\n",
    "import pandas as pd\n",
    "list1=[100,200,300,400,500,550,444,600]\n",
    "df=pd.Series(list1)\n",
    "print(df)"
   ]
  },
  {
   "cell_type": "code",
   "execution_count": 5,
   "id": "607f4d8f",
   "metadata": {},
   "outputs": [
    {
     "name": "stdout",
     "output_type": "stream",
     "text": [
      "return the first value of series\n",
      "400\n"
     ]
    }
   ],
   "source": [
    "print('return the first value of series')\n",
    "print(df[3])"
   ]
  },
  {
   "cell_type": "code",
   "execution_count": 7,
   "id": "0794715c",
   "metadata": {},
   "outputs": [
    {
     "name": "stdout",
     "output_type": "stream",
     "text": [
      "With the index argument, you can name your own labels.\n",
      "a1    argu1\n",
      "a2    argu2\n",
      "a3    argu3\n",
      "a4    argu4\n",
      "a5    argu5\n",
      "dtype: object\n"
     ]
    }
   ],
   "source": [
    "print('With the index argument, you can name your own labels.')\n",
    "import pandas as pd\n",
    "list2=['argu1','argu2','argu3','argu4','argu5']\n",
    "df=pd.Series(list2,index=[\"a1\",\"a2\",\"a3\",\"a4\",\"a5\"])\n",
    "print(df)"
   ]
  },
  {
   "cell_type": "code",
   "execution_count": 8,
   "id": "8c9d5e30",
   "metadata": {},
   "outputs": [
    {
     "name": "stdout",
     "output_type": "stream",
     "text": [
      "return iteam by label name\n",
      "argu4\n"
     ]
    }
   ],
   "source": [
    "print('return iteam by label name')\n",
    "print(df[\"a4\"])"
   ]
  },
  {
   "cell_type": "markdown",
   "id": "c8426e44",
   "metadata": {},
   "source": [
    "****************     PANDAS SERIES FROM A DICTIONARY   ***********************"
   ]
  },
  {
   "cell_type": "code",
   "execution_count": 11,
   "id": "9f61e72d",
   "metadata": {},
   "outputs": [
    {
     "name": "stdout",
     "output_type": "stream",
     "text": [
      "Create a simple Pandas Series from a dictionary:\n",
      "day1     apple\n",
      "day2    banana\n",
      "day3      kiwi\n",
      "dtype: object\n"
     ]
    }
   ],
   "source": [
    "print('Create a simple Pandas Series from a dictionary:')\n",
    "import pandas as pd\n",
    "fruits={\"day1\": \"apple\", \"day2\": \"banana\", \"day3\": \"kiwi\"}\n",
    "df=pd.Series(fruits)\n",
    "print(df)"
   ]
  },
  {
   "cell_type": "code",
   "execution_count": 19,
   "id": "042585ef",
   "metadata": {},
   "outputs": [
    {
     "name": "stdout",
     "output_type": "stream",
     "text": [
      "Create a Series using only data from index\n",
      "day1    200\n",
      "day2    240\n",
      "day3    300\n",
      "dtype: int64\n"
     ]
    }
   ],
   "source": [
    "print('Create a Series using only data from index')\n",
    "import pandas as pd\n",
    "calories={\"day1\":200,\"day2\":240,\"day3\":300}\n",
    "df=pd.Series(calories , index=['day1','day2','day3'])\n",
    "#df=pd.Series(calories, index=[\"good\",\"ok\",\"verygood\"])\n",
    "print(df)"
   ]
  },
  {
   "cell_type": "markdown",
   "id": "b7aff3db",
   "metadata": {},
   "source": [
    "******************* DATA FRAMES  ******************"
   ]
  },
  {
   "cell_type": "code",
   "execution_count": 24,
   "id": "493b02f1",
   "metadata": {},
   "outputs": [
    {
     "name": "stdout",
     "output_type": "stream",
     "text": [
      "Create a DataFrame from two Series:\n",
      "  classname result\n",
      "0     first   good\n",
      "1    second     ok\n",
      "2     third    bad\n",
      "locate row from index value\n",
      "classname    second\n",
      "result           ok\n",
      "Name: 1, dtype: object\n",
      "  classname result\n",
      "1    second     ok\n",
      "0     first   good\n"
     ]
    }
   ],
   "source": [
    "print('Create a DataFrame from two Series:')\n",
    "import pandas as pd\n",
    "info={\n",
    "    \"classname\": ['first','second','third'],\n",
    "    \"result\": ['good','ok','bad']\n",
    "}\n",
    "df=pd.DataFrame(info)\n",
    "print(df)\n",
    "print('locate row from index value')\n",
    "print(df.loc[1])\n",
    "print(df.loc[[1,0]])"
   ]
  },
  {
   "cell_type": "code",
   "execution_count": 25,
   "id": "d9e09108",
   "metadata": {},
   "outputs": [
    {
     "name": "stdout",
     "output_type": "stream",
     "text": [
      "With the index argument, you can name your own indexes.\n",
      "      calories  duration\n",
      "day1       420        50\n",
      "day2       380        40\n",
      "day3       390        45\n"
     ]
    }
   ],
   "source": [
    "print('With the index argument, you can name your own indexes.')\n",
    "import pandas as pd\n",
    "\n",
    "data = {\n",
    "  \"calories\": [420, 380, 390],\n",
    "  \"duration\": [50, 40, 45]\n",
    "}\n",
    "\n",
    "df = pd.DataFrame(data, index = [\"day1\", \"day2\", \"day3\"])\n",
    "\n",
    "print(df) \n"
   ]
  }
 ],
 "metadata": {
  "kernelspec": {
   "display_name": "Python 3",
   "language": "python",
   "name": "python3"
  },
  "language_info": {
   "codemirror_mode": {
    "name": "ipython",
    "version": 3
   },
   "file_extension": ".py",
   "mimetype": "text/x-python",
   "name": "python",
   "nbconvert_exporter": "python",
   "pygments_lexer": "ipython3",
   "version": "3.13.2"
  }
 },
 "nbformat": 4,
 "nbformat_minor": 5
}
