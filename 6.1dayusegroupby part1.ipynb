{
 "cells": [
  {
   "cell_type": "markdown",
   "id": "8f03e901",
   "metadata": {},
   "source": [
    "Aggregating statistics grouped by category\n",
    "•\tSplit the data into groups\n",
    "•\tApply a function to each group independently\n",
    "•\tCombine the results into a data structure\n",
    "In Pandas, you can use groupby() with the combination of sum(), count(), pivot(), transform(), aggregate(), and many more methods to perform various operations on grouped data. In this article, I will cover how to group by a single column, or multiple columns by using groupby()"
   ]
  },
  {
   "cell_type": "markdown",
   "id": "fec1e0ae",
   "metadata": {},
   "source": [
    "Key points for groupby() function\n",
    "•\tgroupby() is used to split data into groups based on one or more keys, allowing for efficient analysis and aggregation of grouped data.\n",
    "•\tIt supports various aggregation functions like sum, mean, count, min, and max, which can be applied to each group.\n",
    "•\tYou can apply multiple aggregations on different columns using .agg(), offering more flexibility in analysis.\n",
    "•\tThe result of groupby() often returns a DataFrame with a MultiIndex, where each level represents a grouping key.\n",
    "•\tYou can filter groups based on specific conditions by using .filter() after groupby().\n",
    "•\tgroupby() allows iteration over groups, enabling customized operations on each subset of data.\n"
   ]
  },
  {
   "cell_type": "markdown",
   "id": "cbb6fcb9",
   "metadata": {},
   "source": [
    "Parameters of the DataFrame groupby()\n",
    "Following are the parameters of the groupby() function.\n",
    "\n",
    "by – List of column names to group by\n",
    "axis – Default to 0. It takes 0 or ‘index’, 1 or ‘columns’\n",
    "level – Used with MultiIndex.\n",
    "as_index – sql style grouped output.\n",
    "sort – Default to True. Specify whether to sort after the group\n",
    "group_keys – add group keys or not\n",
    "squeeze – deprecated in new versions\n",
    "observed – This only applies if any of the groupers are Categoricals.\n",
    "dropna – Default to False. Use True to drop None/Nan on sorry keys"
   ]
  },
  {
   "cell_type": "code",
   "execution_count": null,
   "id": "f378ae0a",
   "metadata": {},
   "outputs": [
    {
     "name": "stdout",
     "output_type": "stream",
     "text": [
      "      Name         City  Salary\n",
      "0    Alice     New York   70000\n",
      "1      Bob      Houston   80000\n",
      "2      Bob      Houston   90000\n",
      "3  Charlie      Chicago   60000\n",
      "4    David      Houston   90000\n",
      "5    Rahul  Los Angeles   80000\n",
      "6     Ravi      Chicago   60000\n",
      "7     sonu     New York   70000\n"
     ]
    }
   ],
   "source": [
    "print('general example of groupby function apply at two columns and sum of salry column')\n",
    "# import pandas\n",
    "import pandas as pd\n",
    "\n",
    "#create a dictinory contain the dataset\n",
    "data={\n",
    "    'Name': ['Alice', 'Bob', 'Charlie', 'David','sonu', 'Rahul','Ravi','Bob'],\n",
    "    'Age': [24, 30, 22, 35,24,30, 22, 35],\n",
    "    'City': ['New York', ' Houston', 'Chicago', 'Houston', 'New York', 'Los Angeles', 'Chicago', 'Houston'],\n",
    "    'Salary': [70000, 80000, 60000, 90000, 70000, 80000, 60000, 90000],\n",
    "    'Department': ['HR', 'Finance', 'IT', 'Marketing', 'HR', 'Finance', 'IT', 'Marketing'],\n",
    "    'Experience': [2, 5, 1, 8, 2, 5, 1, 8],\n",
    "    'Country': ['USA', 'USA', 'USA', 'USA', 'India', 'India', 'India', 'India'],\n",
    "    'Job Title': ['Manager', 'Senior Developer', 'Software Engineer', 'Marketing Manager', 'Manager', 'Senior Developer', 'Software Engineer', 'Marketing Manager']    \n",
    "}\n",
    "# Create a DataFrame from the dictionary\n",
    "df = pd.DataFrame(data)\n",
    "# Display the DataFrame\n",
    "df\n",
    "#group the dataframe by 'Name' and 'City' and calculate the sum of  'Salary'    \n",
    "grouped= df.groupby(['Name', 'City'])['Salary'].sum().reset_index()\n",
    "# Display the grouped DataFrame\n",
    "print(grouped)"
   ]
  },
  {
   "cell_type": "code",
   "execution_count": null,
   "id": "b2946451",
   "metadata": {},
   "outputs": [],
   "source": [
    "Group by a Single Column in Pandas\n",
    "In Pandas, we use the groupby() function to group data by a single column and then calculate the aggregates.    "
   ]
  },
  {
   "cell_type": "code",
   "execution_count": 21,
   "id": "2e5e005a",
   "metadata": {},
   "outputs": [
    {
     "name": "stdout",
     "output_type": "stream",
     "text": [
      "create a datframe and group by a single column\n",
      "category\n",
      "Electronis      7400\n",
      "cement          1440\n",
      "cloths           980\n",
      "construction     150\n",
      "furniture       1000\n",
      "woodwork         600\n",
      "Name: sales, dtype: int64\n"
     ]
    }
   ],
   "source": [
    "print('create a datframe and group by a single column')\n",
    "\n",
    "# import pandas\n",
    "import pandas as pd\n",
    "\n",
    "# create a dictionary containing the dataset\n",
    "data = {\n",
    "    'category':['Electronis','cloths','furniture','Electronis','cloths','furniture','woodwork','cement','construction'],\n",
    "    'product':['laptop','shirt','table','mobile','jeans','chair','wooden chair','cement bag','bricks'],\n",
    "    'price':[1000,50,200,800,60,150,100,120,10],\n",
    "    'quantity':[5,10,2,3,8,4,6,12,15],\n",
    "    'sales':[5000,500,400,2400,480,600,600,1440,150],\n",
    "    'profit':[1000,200,50,800,120,150,60, 240,30]\n",
    "    }\n",
    "# Create a DataFrame from the dictionary\n",
    "df = pd.DataFrame(data)\n",
    "# Display the DataFrame\n",
    "df\n",
    "\n",
    "#group by datframe according to category and sum of sales column\n",
    "grouped=df.groupby('category') ['sales'].sum()\n",
    "#display the grouped dataframe\n",
    "print(grouped)"
   ]
  },
  {
   "cell_type": "markdown",
   "id": "7ff1c612",
   "metadata": {},
   "source": [
    "Group by a Multiple Column in Pandas\n",
    "We can also group multiple columns and calculate multiple aggregates in Pandas."
   ]
  },
  {
   "cell_type": "code",
   "execution_count": 45,
   "id": "13760b1f",
   "metadata": {},
   "outputs": [
    {
     "name": "stdout",
     "output_type": "stream",
     "text": [
      "   gender age grade        \n",
      "               mean max min\n",
      "0  Female  21  90.0  90  90\n",
      "1  Female  23  88.0  88  88\n",
      "2  Female  25  95.0  95  95\n",
      "3  Female  27  87.0  87  87\n",
      "4  Female  29  91.0  91  91\n",
      "5    Male  20  85.0  85  85\n",
      "6    Male  22  78.0  78  78\n",
      "7    Male  24  92.0  92  92\n",
      "8    Male  26  80.0  80  80\n",
      "9    Male  28  89.0  89  89\n"
     ]
    }
   ],
   "source": [
    "#import pandsa\n",
    "import pandas as pd\n",
    "\n",
    "#crete a dictinory of students dataset\n",
    "data={\n",
    "    'gender':['Male','Female','Male','Female','Male','Female','Male','Female','Male','Female'],\n",
    "    'name':['John','Alice','Bob','Emma','Mike','Sophia','David','Olivia','James','Isabella'],\n",
    "    'age':[20,21,22,23,24,25,26,27,28,29],\n",
    "    'grade':[85,90,78,88,92,95,80,87,89,91],\n",
    "    'city':['New York','Los Angeles','Chicago','Houston','Phoenix','San Diego','Dallas','San Jose','Austin','Seattle'],\n",
    "    'country':['USA','USA','USA','USA','USA','USA','USA','USA','USA','USA'],\n",
    "    'major':['Computer Science','Mathematics','Physics','Chemistry','Biology','Engineering','Economics','Psychology','History','Sociology'] \n",
    "     \n",
    "}\n",
    "\n",
    "# Create a DataFrame from the dictionary\n",
    "df = pd.DataFrame(data)\n",
    "# Display the DataFrame \n",
    "df\n",
    "\n",
    "#defined aggregate funvction on the grade column\n",
    "agg_function={\n",
    "    'grade':['mean','max','min']\n",
    "}\n",
    "\n",
    "#groupby at two columns and min/max grade of students\n",
    "#grouped=df.groupby(['gender','name']).agg({'grade':['mean','max']}).reset_index() #this is also correct method\n",
    "grouped=df.groupby(['gender','age']).agg(agg_function).reset_index()\n",
    "\n",
    "# Display the grouped DataFrame\n",
    "print(grouped)"
   ]
  },
  {
   "cell_type": "markdown",
   "id": "b652100d",
   "metadata": {},
   "source": [
    "Group With Categorical Data\n",
    "We group with categorical data where we want to analyze data based on specific categories.\n",
    "\n",
    "Pandas provides powerful tools to work with categorical data efficiently using the groupby() function."
   ]
  },
  {
   "cell_type": "code",
   "execution_count": 54,
   "id": "5eb08482",
   "metadata": {},
   "outputs": [
    {
     "name": "stdout",
     "output_type": "stream",
     "text": [
      "groupby function used in the categorical data\n",
      "  catagory  Values\n",
      "0        a     120\n",
      "1        b     150\n",
      "2        c     180\n"
     ]
    },
    {
     "name": "stderr",
     "output_type": "stream",
     "text": [
      "C:\\Users\\PC\\AppData\\Local\\Temp\\ipykernel_22160\\3449253587.py:21: FutureWarning: The default of observed=False is deprecated and will be changed to True in a future version of pandas. Pass observed=False to retain current behavior or observed=True to adopt the future default and silence this warning.\n",
      "  grouped=df.groupby('catagory') ['Values'].sum().reset_index()\n"
     ]
    }
   ],
   "source": [
    "print('groupby function used in the categorical data')\n",
    "\n",
    "#import pandas\n",
    "import pandas as pd\n",
    "\n",
    "#create a dictionary containing the dataset\n",
    "data={\n",
    "    'catagory':['a','b','c','a','b','c','a','b','c'],\n",
    "    'Values':[10,20,30,40,50,60,70,80,90]\n",
    "}\n",
    "\n",
    "#craeet dataframe from the dictionary\n",
    "df=pd.DataFrame(data)\n",
    "\n",
    "#convert the 'catagory' column to categorical type\n",
    "df['catagory'] = df['catagory'].astype('category')\n",
    "\n",
    "\n",
    "\n",
    "#group by category column and calculate the sum of values\n",
    "grouped=df.groupby('catagory') ['Values'].sum().reset_index()\n",
    "\n",
    "#display the grouped dataframe\n",
    "print(grouped)"
   ]
  }
 ],
 "metadata": {
  "kernelspec": {
   "display_name": "Python 3",
   "language": "python",
   "name": "python3"
  },
  "language_info": {
   "codemirror_mode": {
    "name": "ipython",
    "version": 3
   },
   "file_extension": ".py",
   "mimetype": "text/x-python",
   "name": "python",
   "nbconvert_exporter": "python",
   "pygments_lexer": "ipython3",
   "version": "3.13.2"
  }
 },
 "nbformat": 4,
 "nbformat_minor": 5
}
