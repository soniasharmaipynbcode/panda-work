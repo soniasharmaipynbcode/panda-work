{
 "cells": [
  {
   "cell_type": "markdown",
   "id": "d6c3b9bf",
   "metadata": {},
   "source": [
    "Use Pandas value_counts()\n",
    "You can use the value_counts() function to count the frequency of unique values \n",
    "\n",
    "This function uses the following basic syntax:\n",
    "\n",
    "my_series.value_counts()"
   ]
  },
  {
   "cell_type": "code",
   "execution_count": null,
   "id": "5551d436",
   "metadata": {},
   "outputs": [
    {
     "name": "stdout",
     "output_type": "stream",
     "text": [
      "count the occurrences of unique values in a pandas Series:\n"
     ]
    },
    {
     "data": {
      "text/plain": [
       "3      4\n",
       "2      3\n",
       "222    3\n",
       "4      2\n",
       "111    2\n",
       "33     1\n",
       "11     1\n",
       "333    1\n",
       "Name: count, dtype: int64"
      ]
     },
     "execution_count": 1,
     "metadata": {},
     "output_type": "execute_result"
    }
   ],
   "source": [
    "print('count the occurrences of unique values in a pandas Series:')\n",
    "# import pandas\n",
    "import pandas as pd\n",
    "\n",
    "# create series\n",
    "series1=pd.Series([2,2,3,3,3,3,4,4,111,2,33,11,222,333,222,111,222])\n",
    "\n",
    "#count the occurance of unique values in the series\n",
    "series1.value_counts()\n",
    "\n",
    "#this tells 3 occurs 4 times\n",
    "#this tells 2 occurs 3 times\n",
    "#this tells 222 occurs 3 times\n",
    "#this tells 4 occurs 2 times\n",
    "# and so on\n"
   ]
  },
  {
   "cell_type": "markdown",
   "id": "44ce6996",
   "metadata": {},
   "source": [
    "Count Frequency of Unique Values (Including NaNs)\n",
    "By default, the value_counts() function does not show the frequency of NaN values.\n",
    "\n",
    "However, you can use the dropna argument to display the frequency of NaN values:"
   ]
  },
  {
   "cell_type": "code",
   "execution_count": 3,
   "id": "54368168",
   "metadata": {},
   "outputs": [
    {
     "name": "stdout",
     "output_type": "stream",
     "text": [
      "count the unique values from the serties but included null values also, that is included by numpy \n"
     ]
    },
    {
     "data": {
      "text/plain": [
       "4.0     4\n",
       "3.0     3\n",
       "5.0     3\n",
       "6.0     3\n",
       "44.0    3\n",
       "2.0     2\n",
       "NaN     2\n",
       "43.0    1\n",
       "34.0    1\n",
       "55.0    1\n",
       "Name: count, dtype: int64"
      ]
     },
     "execution_count": 3,
     "metadata": {},
     "output_type": "execute_result"
    }
   ],
   "source": [
    "print('count the unique values from the serties but included null values also, that is included by numpy ')\n",
    "\n",
    "# inport pandas\n",
    "import pandas as pd\n",
    "\n",
    "# import numpy\n",
    "import numpy as np\n",
    "\n",
    "# Create sertes with include null values\n",
    "\n",
    "series2=pd.Series([2,2,3,3,3,4,4,4,4,6,6,6,5,5,5,43,34,44,44,44,np.nan,np.nan,55])\n",
    "\n",
    "# count the occurance from series\n",
    "series2.value_counts() # this never shows the null values so we use dropna()\n",
    "\n",
    "#show also occurance of null values\n",
    "series2.value_counts(dropna=False)"
   ]
  },
  {
   "cell_type": "markdown",
   "id": "4bf0ed5c",
   "metadata": {},
   "source": [
    "Count Relative Frequency of Unique Values\n",
    "The following code shows how to use the normalize argument to count the relative frequency of unique values. This shows the percentages of all values in the series. If normalize will be true.\n"
   ]
  },
  {
   "cell_type": "code",
   "execution_count": null,
   "id": "7fe786a4",
   "metadata": {},
   "outputs": [
    {
     "name": "stdout",
     "output_type": "stream",
     "text": [
      "occurance of percentage use of normalize() function\n"
     ]
    },
    {
     "data": {
      "text/plain": [
       "3     0.60\n",
       "22    0.12\n",
       "2     0.12\n",
       "4     0.08\n",
       "44    0.04\n",
       "33    0.04\n",
       "Name: proportion, dtype: float64"
      ]
     },
     "execution_count": 4,
     "metadata": {},
     "output_type": "execute_result"
    }
   ],
   "source": [
    "print('occurance of percentage use of normalize() function')\n",
    "# import pandas\n",
    "import pandas as pd\n",
    "\n",
    "# create the series\n",
    "series3=pd.Series([22,3,3,3,3,22,3,3,3,4,4,44,2,2,33,3,3,3,3,22,3,3,3,3,2])\n",
    "\n",
    "#count the occurance of unique values in the series\n",
    "series3.value_counts(normalize=True)\n",
    "\n",
    "#output shows\n",
    "#The value 3 represents 60% of all values in the Series.\n",
    "#The value 22 represents 12% of all values in the Series."
   ]
  },
  {
   "cell_type": "markdown",
   "id": "8fbab989",
   "metadata": {},
   "source": [
    "Count Frequency in Bins\n",
    "The following code shows how to use the bins argument to count the frequency of values in a pandas Series that fall into equal-sized bins:\n",
    "For example\n",
    "This tells us:\n",
    "•\tThere are 6 values that fall in the range 3 to 5.\n",
    "•\tThere are 2 values that fall in the range 5 to 7.\n",
    "•\tThere are 2 values that fall in the range 7 to 9.\n"
   ]
  },
  {
   "cell_type": "code",
   "execution_count": null,
   "id": "2ff7ce54",
   "metadata": {},
   "outputs": [
    {
     "name": "stdout",
     "output_type": "stream",
     "text": [
      "count frequency in bins\n"
     ]
    },
    {
     "data": {
      "text/plain": [
       "(1.957, 16.0]    20\n",
       "(16.0, 30.0]      3\n",
       "(30.0, 44.0]      2\n",
       "Name: count, dtype: int64"
      ]
     },
     "execution_count": 6,
     "metadata": {},
     "output_type": "execute_result"
    }
   ],
   "source": [
    "print('count frequency in bins')\n",
    "\n",
    "# import pandas\n",
    "import pandas as pd\n",
    "\n",
    "# create the series\n",
    "series4=pd.Series([22,3,3,3,3,22,3,3,3,4,4,44,2,2,33,3,3,3,3,22,3,3,3,3,2])\n",
    "\n",
    "#count the occurance of unique values in the series\n",
    "series4.value_counts(bins=3)\n",
    "#output display\n",
    "#There are 20 values that fall in the range 1.957 to 16.0.\n",
    "#There are 3 values that fall in the range 16.0 to 30.0.\n"
   ]
  },
  {
   "cell_type": "markdown",
   "id": "6731606c",
   "metadata": {},
   "source": [
    "Count Frequency of Values in Pandas DataFrame\n",
    "We can also use the value_counts() function to calculate the frequency of unique values in a specific column of a pandas DataFrame:"
   ]
  },
  {
   "cell_type": "code",
   "execution_count": 9,
   "id": "43792efd",
   "metadata": {},
   "outputs": [
    {
     "name": "stdout",
     "output_type": "stream",
     "text": [
      "value counts in the dataframe\n"
     ]
    },
    {
     "data": {
      "text/plain": [
       "points\n",
       "33    5\n",
       "44    4\n",
       "22    2\n",
       "1     2\n",
       "Name: count, dtype: int64"
      ]
     },
     "execution_count": 9,
     "metadata": {},
     "output_type": "execute_result"
    }
   ],
   "source": [
    "print('value counts in the dataframe')\n",
    "\n",
    "#import pandas\n",
    "import pandas as pd\n",
    "\n",
    "#create dataframe\n",
    "df=pd.DataFrame(\n",
    "    {\n",
    "        'points':[1,22,22,33,33,1,33,33,33,44,44,44,44],\n",
    "        'scores':[200,200,300,30,300,30,300,22,22,22,22,22,22],\n",
    "        'outruns':[2,3,2,3,2,3,3,3,4,4,4,2,2]\n",
    "    }\n",
    ")\n",
    "df['points'].value_counts()"
   ]
  },
  {
   "cell_type": "code",
   "execution_count": 12,
   "id": "6b0f2e8a",
   "metadata": {},
   "outputs": [
    {
     "name": "stdout",
     "output_type": "stream",
     "text": [
      "value count function usage in file import\n"
     ]
    },
    {
     "data": {
      "text/plain": [
       "class\n",
       "Economy     206666\n",
       "Business     93487\n",
       "Name: count, dtype: int64"
      ]
     },
     "execution_count": 12,
     "metadata": {},
     "output_type": "execute_result"
    }
   ],
   "source": [
    "print('value count function usage in file import')\n",
    "#import pandas\n",
    "import pandas as pd\n",
    "\n",
    "#import file\n",
    "df=pd.read_csv('airlines_flights_data.csv')\n",
    "df\n",
    "\n",
    "#value count on a specified categoried column\n",
    "df['class'].value_counts()"
   ]
  },
  {
   "cell_type": "code",
   "execution_count": null,
   "id": "cf906e5b",
   "metadata": {},
   "outputs": [],
   "source": [
    "print('hello')"
   ]
  }
 ],
 "metadata": {
  "kernelspec": {
   "display_name": "Python 3",
   "language": "python",
   "name": "python3"
  },
  "language_info": {
   "codemirror_mode": {
    "name": "ipython",
    "version": 3
   },
   "file_extension": ".py",
   "mimetype": "text/x-python",
   "name": "python",
   "nbconvert_exporter": "python",
   "pygments_lexer": "ipython3",
   "version": "3.13.2"
  }
 },
 "nbformat": 4,
 "nbformat_minor": 5
}
